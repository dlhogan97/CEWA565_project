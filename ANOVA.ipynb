{
 "cells": [
  {
   "cell_type": "code",
   "execution_count": 3,
   "id": "78c1b3d1-d0e6-4591-83e8-16836c28b995",
   "metadata": {},
   "outputs": [],
   "source": [
    "import pandas as pd\n",
    "import numpy as np\n",
    "import scipy.stats as stats\n",
    "import matplotlib.pyplot as plt\n",
    "from datetime import datetime"
   ]
  },
  {
   "cell_type": "code",
   "execution_count": 2,
   "id": "3f2b6f0a-feb4-4b28-83f7-310cd058504e",
   "metadata": {},
   "outputs": [
    {
     "name": "stdout",
     "output_type": "stream",
     "text": [
      "Harts Pass\n"
     ]
    }
   ],
   "source": [
    "sites = [\"Grouse Camp\", \"Pope Ridge\", \"Sentinel Butte\", \"Three Creeks Meadow\", \"Harts Pass\"]\n",
    "\n",
    "site = sites[4]\n",
    "\n",
    "fire_dates = {\n",
    "    'Pope Ridge': \"2014-07-16\",\n",
    "    'Three Creeks Meadow': \"2012-09-09\",\n",
    "    'Sentinel Butte': \"2015-08-11\",\n",
    "    'Grouse Camp': \"2012-09-08\",\n",
    "    'Harts Pass': \"2003-08-05\"\n",
    "}\n",
    "\n",
    "print(site)"
   ]
  },
  {
   "cell_type": "code",
   "execution_count": 113,
   "id": "8e80a4a4-1d18-41ba-b17f-ac77135e8693",
   "metadata": {},
   "outputs": [
    {
     "data": {
      "text/html": [
       "<div>\n",
       "<style scoped>\n",
       "    .dataframe tbody tr th:only-of-type {\n",
       "        vertical-align: middle;\n",
       "    }\n",
       "\n",
       "    .dataframe tbody tr th {\n",
       "        vertical-align: top;\n",
       "    }\n",
       "\n",
       "    .dataframe thead th {\n",
       "        text-align: right;\n",
       "    }\n",
       "</style>\n",
       "<table border=\"1\" class=\"dataframe\">\n",
       "  <thead>\n",
       "    <tr style=\"text-align: right;\">\n",
       "      <th></th>\n",
       "      <th>water_year</th>\n",
       "      <th>last_snow</th>\n",
       "      <th>DOY</th>\n",
       "      <th>DOWY</th>\n",
       "      <th>date</th>\n",
       "    </tr>\n",
       "  </thead>\n",
       "  <tbody>\n",
       "    <tr>\n",
       "      <th>0</th>\n",
       "      <td>1983</td>\n",
       "      <td>1900-06-30</td>\n",
       "      <td>181</td>\n",
       "      <td>273</td>\n",
       "      <td>1983-06-30</td>\n",
       "    </tr>\n",
       "    <tr>\n",
       "      <th>1</th>\n",
       "      <td>1984</td>\n",
       "      <td>1900-07-06</td>\n",
       "      <td>187</td>\n",
       "      <td>279</td>\n",
       "      <td>1984-07-05</td>\n",
       "    </tr>\n",
       "    <tr>\n",
       "      <th>2</th>\n",
       "      <td>1985</td>\n",
       "      <td>1900-06-11</td>\n",
       "      <td>162</td>\n",
       "      <td>254</td>\n",
       "      <td>1985-06-11</td>\n",
       "    </tr>\n",
       "    <tr>\n",
       "      <th>3</th>\n",
       "      <td>1986</td>\n",
       "      <td>1900-06-14</td>\n",
       "      <td>165</td>\n",
       "      <td>257</td>\n",
       "      <td>1986-06-14</td>\n",
       "    </tr>\n",
       "    <tr>\n",
       "      <th>4</th>\n",
       "      <td>1987</td>\n",
       "      <td>1900-06-06</td>\n",
       "      <td>157</td>\n",
       "      <td>249</td>\n",
       "      <td>1987-06-06</td>\n",
       "    </tr>\n",
       "  </tbody>\n",
       "</table>\n",
       "</div>"
      ],
      "text/plain": [
       "   water_year   last_snow  DOY  DOWY       date\n",
       "0        1983  1900-06-30  181   273 1983-06-30\n",
       "1        1984  1900-07-06  187   279 1984-07-05\n",
       "2        1985  1900-06-11  162   254 1985-06-11\n",
       "3        1986  1900-06-14  165   257 1986-06-14\n",
       "4        1987  1900-06-06  157   249 1987-06-06"
      ]
     },
     "execution_count": 113,
     "metadata": {},
     "output_type": "execute_result"
    }
   ],
   "source": [
    "df = pd.read_csv(f\"data/fire_sites/{site}_swe_meltdates.csv\")\n",
    "df['DOY'] = df['last_snow'].apply(lambda d: int(datetime.strptime(d, \"%Y-%m-%d\").strftime(\"%j\")))\n",
    "df['DOWY'] = df['DOY'] + 92    # from oct-1 to dec-31 + DOY\n",
    "df['date'] = df.apply(lambda row: datetime.strptime(f\"{row['water_year']}-{row['DOY']}\", \"%Y-%j\") ,axis=1)\n",
    "df.head()"
   ]
  },
  {
   "cell_type": "code",
   "execution_count": 134,
   "id": "2204e022-79e8-4a59-a928-582852250dd0",
   "metadata": {},
   "outputs": [],
   "source": [
    "pre_fire = df[df['date']<fire_dates[site]]  \n",
    "post_fire = df[df['date']>=fire_dates[site]].iloc[:5]   # For now take all the data. In future maybe it'd be a good idea to limit the number of years we're looking at"
   ]
  },
  {
   "cell_type": "code",
   "execution_count": 135,
   "id": "b67312a8-0d2c-4113-89aa-6cd8e3ce5d91",
   "metadata": {},
   "outputs": [
    {
     "data": {
      "image/png": "[encoded data removed]",
      "text/plain": [
       "<Figure size 576x360 with 1 Axes>"
      ]
     },
     "metadata": {
      "needs_background": "light"
     },
     "output_type": "display_data"
    }
   ],
   "source": [
    "# Distribution of melt dates\n",
    "fig, ax = plt.subplots(figsize=(8, 5))\n",
    "\n",
    "# df = dfs[site]\n",
    "pre_fire['DOWY'].hist(bins=7, ax=ax, label=f'Before Fire', alpha=0.7)\n",
    "post_fire['DOWY'].hist(bins=7, ax=ax, label=f'After Fire', alpha=0.7)\n",
    "ax.set_title(f\"{site} - Fire date: {fire_dates[site]}\")\n",
    "ax.legend()\n",
    "\n",
    "ax.set_xlabel(\"Melt DOWY (Day of Water Year)\")\n",
    "ax.set_ylabel(\"Frequency\")\n",
    "\n",
    "# xfmt = mpl.dates.DateFormatter('%b')\n",
    "# months = mpl.dates.MonthLocator()\n",
    "# weeks = mpl.dates.DayLocator(interval=7)\n",
    "# ax.xaxis.set_major_locator(months)\n",
    "# ax.xaxis.set_major_formatter(xfmt)\n",
    "    \n",
    "fig.suptitle(\"Melt Date distribution\", fontsize=14)\n",
    "plt.tight_layout()\n",
    "\n",
    "# fig.savefig(f\"ANOVA/{site}_distribution.png\")"
   ]
  },
  {
   "cell_type": "code",
   "execution_count": 136,
   "id": "de5af1a0-3c64-40e8-80fc-d5fd922aa253",
   "metadata": {},
   "outputs": [
    {
     "data": {
      "text/plain": [
       "F_onewayResult(statistic=1.144898811662315, pvalue=0.2952631565370968)"
      ]
     },
     "execution_count": 136,
     "metadata": {},
     "output_type": "execute_result"
    }
   ],
   "source": [
    "stats.f_oneway(pre_fire['DOWY'], post_fire['DOWY'])"
   ]
  },
  {
   "cell_type": "code",
   "execution_count": 133,
   "id": "8de724a2-f15c-4134-8944-5ecedf68d5a8",
   "metadata": {},
   "outputs": [
    {
     "data": {
      "text/html": [
       "<div>\n",
       "<style scoped>\n",
       "    .dataframe tbody tr th:only-of-type {\n",
       "        vertical-align: middle;\n",
       "    }\n",
       "\n",
       "    .dataframe tbody tr th {\n",
       "        vertical-align: top;\n",
       "    }\n",
       "\n",
       "    .dataframe thead th {\n",
       "        text-align: right;\n",
       "    }\n",
       "</style>\n",
       "<table border=\"1\" class=\"dataframe\">\n",
       "  <thead>\n",
       "    <tr style=\"text-align: right;\">\n",
       "      <th></th>\n",
       "      <th>sum_sq</th>\n",
       "      <th>df</th>\n",
       "      <th>F</th>\n",
       "      <th>PR(&gt;F)</th>\n",
       "    </tr>\n",
       "  </thead>\n",
       "  <tbody>\n",
       "    <tr>\n",
       "      <th>C(treatments)</th>\n",
       "      <td>2.822955</td>\n",
       "      <td>1.0</td>\n",
       "      <td>0.015328</td>\n",
       "      <td>0.902139</td>\n",
       "    </tr>\n",
       "    <tr>\n",
       "      <th>Residual</th>\n",
       "      <td>6814.253968</td>\n",
       "      <td>37.0</td>\n",
       "      <td>NaN</td>\n",
       "      <td>NaN</td>\n",
       "    </tr>\n",
       "  </tbody>\n",
       "</table>\n",
       "</div>"
      ],
      "text/plain": [
       "                    sum_sq    df         F    PR(>F)\n",
       "C(treatments)     2.822955   1.0  0.015328  0.902139\n",
       "Residual       6814.253968  37.0       NaN       NaN"
      ]
     },
     "execution_count": 133,
     "metadata": {},
     "output_type": "execute_result"
    }
   ],
   "source": [
    "import statsmodels.api as sm\n",
    "from statsmodels.formula.api import ols\n",
    "\n",
    "df['treatments'] = df.apply(lambda row: int(row['date']>=datetime.strptime(fire_dates[site], \"%Y-%m-%d\"))+1, axis=1)\n",
    "df_formatted = df.reset_index()[['index', 'DOWY', 'treatments']].rename({'DOWY': 'value'}, axis=1)\n",
    "\n",
    "# Ordinary Least Squares (OLS) model\n",
    "model = ols('value ~ C(treatments)', data=df_formatted).fit()\n",
    "anova_table = sm.stats.anova_lm(model, typ=2)\n",
    "\n",
    "# display the results table\n",
    "anova_table"
   ]
  },
  {
   "cell_type": "code",
   "execution_count": 105,
   "id": "36fef48f-f064-4541-9906-517b2f7df2d4",
   "metadata": {},
   "outputs": [],
   "source": [
    "anova_table.to_csv(f\"ANOVA/{site}_anova.txt\", sep='\\t')"
   ]
  },
  {
   "cell_type": "markdown",
   "id": "2f1a1465-5567-49b8-813f-23dec90dbf06",
   "metadata": {},
   "source": [
    "# Now let's look at the paired locations"
   ]
  },
  {
   "cell_type": "code",
   "execution_count": 4,
   "id": "432b95f0-2090-4ef3-bff4-8c9f9dc9314b",
   "metadata": {},
   "outputs": [
    {
     "name": "stdout",
     "output_type": "stream",
     "text": [
      "Three Creeks Meadow, Salt Creek Falls\n"
     ]
    }
   ],
   "source": [
    "pairs = {\n",
    "    'Pope Ridge': 'Blewett Pass',\n",
    "    'Harts Pass': 'Lyman Lake',\n",
    "    'Grouse Camp': 'Trough',\n",
    "    'Sentinel Butte': 'Gold Axe Camp',\n",
    "    'Three Creeks Meadow': 'Salt Creek Falls'\n",
    "}\n",
    "sites = [\"Pope Ridge\", \"Harts Pass\", \"Grouse Camp\", \"Sentinel Butte\", \"Three Creeks Meadow\"]\n",
    "\n",
    "# sites = [\"Grouse Camp\", \"Pope Ridge\", \"Sentinel Butte\", \"Three Creeks Meadow\", \"Harts Pass\"]\n",
    "sites = [\"Pope Ridge\", \"Harts Pass\", \"Grouse Camp\", \"Sentinel Butte\", \"Three Creeks Meadow\"]\n",
    "\n",
    "# Change the index to necessary site name\n",
    "site = sites[4]\n",
    "\n",
    "fire_dates = {\n",
    "    'Pope Ridge': \"2014-07-16\",\n",
    "    'Three Creeks Meadow': \"2012-09-09\",\n",
    "    'Sentinel Butte': \"2015-08-11\",\n",
    "    'Grouse Camp': \"2012-09-08\",\n",
    "    'Harts Pass': \"2003-08-05\"\n",
    "}\n",
    "paired_site = pairs[site]\n",
    "\n",
    "print(site, paired_site, sep=', ')"
   ]
  },
  {
   "cell_type": "code",
   "execution_count": 5,
   "id": "ecd89c95-56b1-4c75-919b-278e3aca2401",
   "metadata": {},
   "outputs": [
    {
     "data": {
      "text/html": [
       "<div>\n",
       "<style scoped>\n",
       "    .dataframe tbody tr th:only-of-type {\n",
       "        vertical-align: middle;\n",
       "    }\n",
       "\n",
       "    .dataframe tbody tr th {\n",
       "        vertical-align: top;\n",
       "    }\n",
       "\n",
       "    .dataframe thead th {\n",
       "        text-align: right;\n",
       "    }\n",
       "</style>\n",
       "<table border=\"1\" class=\"dataframe\">\n",
       "  <thead>\n",
       "    <tr style=\"text-align: right;\">\n",
       "      <th></th>\n",
       "      <th>water_year</th>\n",
       "      <th>last_snow</th>\n",
       "      <th>DOWY</th>\n",
       "      <th>DOY</th>\n",
       "      <th>date</th>\n",
       "    </tr>\n",
       "  </thead>\n",
       "  <tbody>\n",
       "    <tr>\n",
       "      <th>0</th>\n",
       "      <td>1981</td>\n",
       "      <td>1981-05-11</td>\n",
       "      <td>223</td>\n",
       "      <td>131</td>\n",
       "      <td>1981-05-11</td>\n",
       "    </tr>\n",
       "    <tr>\n",
       "      <th>1</th>\n",
       "      <td>1982</td>\n",
       "      <td>1982-06-03</td>\n",
       "      <td>246</td>\n",
       "      <td>154</td>\n",
       "      <td>1982-06-03</td>\n",
       "    </tr>\n",
       "    <tr>\n",
       "      <th>2</th>\n",
       "      <td>1983</td>\n",
       "      <td>1983-06-21</td>\n",
       "      <td>264</td>\n",
       "      <td>172</td>\n",
       "      <td>1983-06-21</td>\n",
       "    </tr>\n",
       "    <tr>\n",
       "      <th>3</th>\n",
       "      <td>1984</td>\n",
       "      <td>1984-05-30</td>\n",
       "      <td>243</td>\n",
       "      <td>151</td>\n",
       "      <td>1984-05-30</td>\n",
       "    </tr>\n",
       "    <tr>\n",
       "      <th>4</th>\n",
       "      <td>1985</td>\n",
       "      <td>1985-05-13</td>\n",
       "      <td>225</td>\n",
       "      <td>133</td>\n",
       "      <td>1985-05-13</td>\n",
       "    </tr>\n",
       "  </tbody>\n",
       "</table>\n",
       "</div>"
      ],
      "text/plain": [
       "   water_year   last_snow  DOWY  DOY       date\n",
       "0        1981  1981-05-11   223  131 1981-05-11\n",
       "1        1982  1982-06-03   246  154 1982-06-03\n",
       "2        1983  1983-06-21   264  172 1983-06-21\n",
       "3        1984  1984-05-30   243  151 1984-05-30\n",
       "4        1985  1985-05-13   225  133 1985-05-13"
      ]
     },
     "execution_count": 5,
     "metadata": {},
     "output_type": "execute_result"
    }
   ],
   "source": [
    "df = pd.read_csv(f\"data/fire_sites/{site}_swe_meltdates.csv\")\n",
    "df['DOY'] = df['last_snow'].apply(lambda d: int(datetime.strptime(d, \"%Y-%m-%d\").strftime(\"%j\")))\n",
    "df['DOWY'] = df['DOY'] + 92    # from oct-1 to dec-31 + DOY\n",
    "df['date'] = df.apply(lambda row: datetime.strptime(f\"{row['water_year']}-{row['DOY']}\", \"%Y-%j\") ,axis=1)\n",
    "df.head()"
   ]
  },
  {
   "cell_type": "code",
   "execution_count": 6,
   "id": "360f39da-fe78-4e98-808e-8ee87883702e",
   "metadata": {},
   "outputs": [
    {
     "data": {
      "text/html": [
       "<div>\n",
       "<style scoped>\n",
       "    .dataframe tbody tr th:only-of-type {\n",
       "        vertical-align: middle;\n",
       "    }\n",
       "\n",
       "    .dataframe tbody tr th {\n",
       "        vertical-align: top;\n",
       "    }\n",
       "\n",
       "    .dataframe thead th {\n",
       "        text-align: right;\n",
       "    }\n",
       "</style>\n",
       "<table border=\"1\" class=\"dataframe\">\n",
       "  <thead>\n",
       "    <tr style=\"text-align: right;\">\n",
       "      <th></th>\n",
       "      <th>water_year</th>\n",
       "      <th>last_snow</th>\n",
       "      <th>DOWY</th>\n",
       "      <th>DOY</th>\n",
       "      <th>date</th>\n",
       "    </tr>\n",
       "  </thead>\n",
       "  <tbody>\n",
       "    <tr>\n",
       "      <th>0</th>\n",
       "      <td>1981</td>\n",
       "      <td>1981-04-28</td>\n",
       "      <td>210</td>\n",
       "      <td>118</td>\n",
       "      <td>1981-04-28</td>\n",
       "    </tr>\n",
       "    <tr>\n",
       "      <th>1</th>\n",
       "      <td>1982</td>\n",
       "      <td>1982-05-22</td>\n",
       "      <td>234</td>\n",
       "      <td>142</td>\n",
       "      <td>1982-05-22</td>\n",
       "    </tr>\n",
       "    <tr>\n",
       "      <th>2</th>\n",
       "      <td>1983</td>\n",
       "      <td>1983-05-30</td>\n",
       "      <td>242</td>\n",
       "      <td>150</td>\n",
       "      <td>1983-05-30</td>\n",
       "    </tr>\n",
       "    <tr>\n",
       "      <th>3</th>\n",
       "      <td>1984</td>\n",
       "      <td>1984-05-31</td>\n",
       "      <td>244</td>\n",
       "      <td>152</td>\n",
       "      <td>1984-05-31</td>\n",
       "    </tr>\n",
       "    <tr>\n",
       "      <th>4</th>\n",
       "      <td>1985</td>\n",
       "      <td>1985-05-22</td>\n",
       "      <td>234</td>\n",
       "      <td>142</td>\n",
       "      <td>1985-05-22</td>\n",
       "    </tr>\n",
       "  </tbody>\n",
       "</table>\n",
       "</div>"
      ],
      "text/plain": [
       "   water_year   last_snow  DOWY  DOY       date\n",
       "0        1981  1981-04-28   210  118 1981-04-28\n",
       "1        1982  1982-05-22   234  142 1982-05-22\n",
       "2        1983  1983-05-30   242  150 1983-05-30\n",
       "3        1984  1984-05-31   244  152 1984-05-31\n",
       "4        1985  1985-05-22   234  142 1985-05-22"
      ]
     },
     "execution_count": 6,
     "metadata": {},
     "output_type": "execute_result"
    }
   ],
   "source": [
    "paired_df = pd.read_csv(f\"data/fire_sites/paired_locs_new/{paired_site}_swe_meltdates.csv\")\n",
    "paired_df['DOY'] = paired_df['last_snow'].apply(lambda d: int(datetime.strptime(d, \"%Y-%m-%d\").strftime(\"%j\")))\n",
    "paired_df['DOWY'] = paired_df['DOY'] + 92    # from oct-1 to dec-31 + DOY\n",
    "paired_df['date'] = paired_df.apply(lambda row: datetime.strptime(f\"{row['water_year']}-{row['DOY']}\", \"%Y-%j\") ,axis=1)\n",
    "paired_df.head()"
   ]
  },
  {
   "cell_type": "code",
   "execution_count": 7,
   "id": "cf73a5e4-d8cb-4582-9311-638bceb05b16",
   "metadata": {},
   "outputs": [],
   "source": [
    "pre_fire = df[df['date']<fire_dates[site]]  \n",
    "post_fire = df[df['date']>=fire_dates[site]]   # For now take all the data. In future maybe it'd be a good idea to limit the number of years we're looking at\n",
    "\n",
    "pre_fire_pair = paired_df[paired_df['date']<fire_dates[site]]\n",
    "post_fire_pair = paired_df[paired_df['date']>=fire_dates[site]].iloc[:10]"
   ]
  },
  {
   "cell_type": "code",
   "execution_count": 8,
   "id": "d8a753eb-b1f6-4d0f-966f-1f048403e522",
   "metadata": {},
   "outputs": [
    {
     "data": {
      "image/png": "[encoded data removed]",
      "text/plain": [
       "<Figure size 576x360 with 1 Axes>"
      ]
     },
     "metadata": {
      "needs_background": "light"
     },
     "output_type": "display_data"
    }
   ],
   "source": [
    "# Distribution of melt dates\n",
    "fig, ax = plt.subplots(figsize=(8, 5))\n",
    "\n",
    "# df = dfs[site]\n",
    "pre_fire_pair['DOWY'].hist(bins=7, ax=ax, label=f'Before Fire', alpha=0.7)\n",
    "post_fire_pair['DOWY'].hist(bins=7, ax=ax, label=f'After Fire', alpha=0.7)\n",
    "ax.set_title(f\"{paired_site} - Fire date: {fire_dates[site]}\")\n",
    "ax.legend()\n",
    "\n",
    "ax.set_xlabel(\"Melt DOWY (Day of Water Year)\")\n",
    "ax.set_ylabel(\"Frequency\")\n",
    "\n",
    "# xfmt = mpl.dates.DateFormatter('%b')\n",
    "# months = mpl.dates.MonthLocator()\n",
    "# weeks = mpl.dates.DayLocator(interval=7)\n",
    "# ax.xaxis.set_major_locator(months)\n",
    "# ax.xaxis.set_major_formatter(xfmt)\n",
    "    \n",
    "fig.suptitle(\"Melt Date distribution\", fontsize=14)\n",
    "plt.tight_layout()\n",
    "\n",
    "# fig.savefig(f\"ANOVA/{paired_site}_distribution.png\")"
   ]
  },
  {
   "cell_type": "code",
   "execution_count": 224,
   "id": "862efc48-d9f6-424f-946b-7d31b923137f",
   "metadata": {},
   "outputs": [
    {
     "data": {
      "text/plain": [
       "F_onewayResult(statistic=0.15429188976159758, pvalue=0.6973396999391777)"
      ]
     },
     "execution_count": 224,
     "metadata": {},
     "output_type": "execute_result"
    }
   ],
   "source": [
    "stats.f_oneway(pre_fire_pair['DOWY'], post_fire_pair['DOWY'])"
   ]
  },
  {
   "cell_type": "code",
   "execution_count": 173,
   "id": "f35b79fd-36e7-4577-87c1-76d61c5231d8",
   "metadata": {},
   "outputs": [
    {
     "data": {
      "text/html": [
       "<div>\n",
       "<style scoped>\n",
       "    .dataframe tbody tr th:only-of-type {\n",
       "        vertical-align: middle;\n",
       "    }\n",
       "\n",
       "    .dataframe tbody tr th {\n",
       "        vertical-align: top;\n",
       "    }\n",
       "\n",
       "    .dataframe thead th {\n",
       "        text-align: right;\n",
       "    }\n",
       "</style>\n",
       "<table border=\"1\" class=\"dataframe\">\n",
       "  <thead>\n",
       "    <tr style=\"text-align: right;\">\n",
       "      <th></th>\n",
       "      <th>sum_sq</th>\n",
       "      <th>df</th>\n",
       "      <th>F</th>\n",
       "      <th>PR(&gt;F)</th>\n",
       "    </tr>\n",
       "  </thead>\n",
       "  <tbody>\n",
       "    <tr>\n",
       "      <th>C(treatments)</th>\n",
       "      <td>361.0</td>\n",
       "      <td>1.0</td>\n",
       "      <td>3.254085</td>\n",
       "      <td>0.090105</td>\n",
       "    </tr>\n",
       "    <tr>\n",
       "      <th>Residual</th>\n",
       "      <td>1775.0</td>\n",
       "      <td>16.0</td>\n",
       "      <td>NaN</td>\n",
       "      <td>NaN</td>\n",
       "    </tr>\n",
       "  </tbody>\n",
       "</table>\n",
       "</div>"
      ],
      "text/plain": [
       "               sum_sq    df         F    PR(>F)\n",
       "C(treatments)   361.0   1.0  3.254085  0.090105\n",
       "Residual       1775.0  16.0       NaN       NaN"
      ]
     },
     "execution_count": 173,
     "metadata": {},
     "output_type": "execute_result"
    }
   ],
   "source": [
    "import statsmodels.api as sm\n",
    "from statsmodels.formula.api import ols\n",
    "\n",
    "df['treatments'] = df.apply(lambda row: int(row['date']>=datetime.strptime(fire_dates[site], \"%Y-%m-%d\"))+1, axis=1)\n",
    "df_formatted = df.reset_index()[['index', 'DOWY', 'treatments']].rename({'DOWY': 'value'}, axis=1)\n",
    "\n",
    "# Ordinary Least Squares (OLS) model\n",
    "model = ols('value ~ C(treatments)', data=df_formatted).fit()\n",
    "anova_table = sm.stats.anova_lm(model, typ=2)\n",
    "\n",
    "# display the results table\n",
    "anova_table"
   ]
  },
  {
   "cell_type": "code",
   "execution_count": 105,
   "id": "4434c939-752b-4f99-91a5-c01aafae3d2d",
   "metadata": {},
   "outputs": [],
   "source": [
    "anova_table.to_csv(f\"ANOVA/{site}_anova.txt\", sep='\\t')"
   ]
  }
 ],
 "metadata": {
  "kernelspec": {
   "display_name": "Python 3 (ipykernel)",
   "language": "python",
   "name": "python3"
  },
  "language_info": {
   "codemirror_mode": {
    "name": "ipython",
    "version": 3
   },
   "file_extension": ".py",
   "mimetype": "text/x-python",
   "name": "python",
   "nbconvert_exporter": "python",
   "pygments_lexer": "ipython3",
   "version": "3.9.6"
  }
 },
 "nbformat": 4,
 "nbformat_minor": 5
}
