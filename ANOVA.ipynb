{
 "cells": [
  {
   "cell_type": "code",
<<<<<<< Updated upstream
   "execution_count": 3,
=======
   "execution_count": 5,
>>>>>>> Stashed changes
   "id": "78c1b3d1-d0e6-4591-83e8-16836c28b995",
   "metadata": {},
   "outputs": [],
   "source": [
    "import pandas as pd\n",
    "import numpy as np\n",
    "import scipy.stats as stats\n",
    "import matplotlib.pyplot as plt\n",
    "from datetime import datetime"
   ]
  },
  {
   "cell_type": "code",
<<<<<<< Updated upstream
   "execution_count": 112,
=======
   "execution_count": 6,
>>>>>>> Stashed changes
   "id": "3f2b6f0a-feb4-4b28-83f7-310cd058504e",
   "metadata": {},
   "outputs": [
    {
     "name": "stdout",
     "output_type": "stream",
     "text": [
      "Harts Pass\n"
     ]
    }
   ],
   "source": [
    "sites = [\"Grouse Camp\", \"Pope Ridge\", \"Sentinel Butte\", \"Three Creeks Meadow\", \"Harts Pass\"]\n",
    "\n",
    "site = sites[4]\n",
    "\n",
    "fire_dates = {\n",
    "    'Pope Ridge': \"2014-07-16\",\n",
    "    'Three Creeks Meadow': \"2012-09-09\",\n",
    "    'Sentinel Butte': \"2015-08-11\",\n",
    "    'Grouse Camp': \"2012-09-08\",\n",
    "    'Harts Pass': \"2003-08-05\"\n",
    "}\n",
    "\n",
    "print(site)"
   ]
  },
  {
   "cell_type": "code",
<<<<<<< Updated upstream
   "execution_count": 113,
=======
   "execution_count": 3,
>>>>>>> Stashed changes
   "id": "8e80a4a4-1d18-41ba-b17f-ac77135e8693",
   "metadata": {},
   "outputs": [
    {
     "data": {
      "text/html": [
       "<div>\n",
       "<style scoped>\n",
       "    .dataframe tbody tr th:only-of-type {\n",
       "        vertical-align: middle;\n",
       "    }\n",
       "\n",
       "    .dataframe tbody tr th {\n",
       "        vertical-align: top;\n",
       "    }\n",
       "\n",
       "    .dataframe thead th {\n",
       "        text-align: right;\n",
       "    }\n",
       "</style>\n",
       "<table border=\"1\" class=\"dataframe\">\n",
       "  <thead>\n",
       "    <tr style=\"text-align: right;\">\n",
       "      <th></th>\n",
       "      <th>water_year</th>\n",
       "      <th>last_snow</th>\n",
       "      <th>DOY</th>\n",
       "      <th>DOWY</th>\n",
       "      <th>date</th>\n",
       "    </tr>\n",
       "  </thead>\n",
       "  <tbody>\n",
       "    <tr>\n",
       "      <th>0</th>\n",
       "      <td>1983</td>\n",
       "      <td>1900-06-30</td>\n",
       "      <td>181</td>\n",
       "      <td>273</td>\n",
       "      <td>1983-06-30</td>\n",
       "    </tr>\n",
       "    <tr>\n",
       "      <th>1</th>\n",
       "      <td>1984</td>\n",
       "      <td>1900-07-06</td>\n",
       "      <td>187</td>\n",
       "      <td>279</td>\n",
       "      <td>1984-07-05</td>\n",
       "    </tr>\n",
       "    <tr>\n",
       "      <th>2</th>\n",
       "      <td>1985</td>\n",
       "      <td>1900-06-11</td>\n",
       "      <td>162</td>\n",
       "      <td>254</td>\n",
       "      <td>1985-06-11</td>\n",
       "    </tr>\n",
       "    <tr>\n",
       "      <th>3</th>\n",
       "      <td>1986</td>\n",
       "      <td>1900-06-14</td>\n",
       "      <td>165</td>\n",
       "      <td>257</td>\n",
       "      <td>1986-06-14</td>\n",
       "    </tr>\n",
       "    <tr>\n",
       "      <th>4</th>\n",
       "      <td>1987</td>\n",
       "      <td>1900-06-06</td>\n",
       "      <td>157</td>\n",
       "      <td>249</td>\n",
       "      <td>1987-06-06</td>\n",
       "    </tr>\n",
       "  </tbody>\n",
       "</table>\n",
       "</div>"
      ],
      "text/plain": [
       "   water_year   last_snow  DOY  DOWY       date\n",
       "0        1983  1900-06-30  181   273 1983-06-30\n",
       "1        1984  1900-07-06  187   279 1984-07-05\n",
       "2        1985  1900-06-11  162   254 1985-06-11\n",
       "3        1986  1900-06-14  165   257 1986-06-14\n",
       "4        1987  1900-06-06  157   249 1987-06-06"
      ]
     },
<<<<<<< Updated upstream
     "execution_count": 113,
=======
     "execution_count": 3,
>>>>>>> Stashed changes
     "metadata": {},
     "output_type": "execute_result"
    }
   ],
   "source": [
    "df = pd.read_csv(f\"data/fire_sites/{site}_swe_meltdates.csv\")\n",
    "df['DOY'] = df['last_snow'].apply(lambda d: int(datetime.strptime(d, \"%Y-%m-%d\").strftime(\"%j\")))\n",
    "df['DOWY'] = df['DOY'] + 92    # from oct-1 to dec-31 + DOY\n",
    "df['date'] = df.apply(lambda row: datetime.strptime(f\"{row['water_year']}-{row['DOY']}\", \"%Y-%j\") ,axis=1)\n",
    "df.head()"
   ]
  },
  {
   "cell_type": "code",
<<<<<<< Updated upstream
   "execution_count": 134,
=======
   "execution_count": 4,
>>>>>>> Stashed changes
   "id": "2204e022-79e8-4a59-a928-582852250dd0",
   "metadata": {},
   "outputs": [],
   "source": [
    "pre_fire = df[df['date']<fire_dates[site]]  \n",
    "post_fire = df[df['date']>=fire_dates[site]].iloc[:5]   # For now take all the data. In future maybe it'd be a good idea to limit the number of years we're looking at"
   ]
  },
  {
   "cell_type": "code",
   "execution_count": 135,
   "id": "b67312a8-0d2c-4113-89aa-6cd8e3ce5d91",
   "metadata": {},
   "outputs": [
    {
     "data": {
      "image/png": "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\n",
      "text/plain": [
       "<Figure size 576x360 with 1 Axes>"
      ]
     },
     "metadata": {
      "needs_background": "light"
     },
     "output_type": "display_data"
    }
   ],
   "source": [
    "# Distribution of melt dates\n",
    "fig, ax = plt.subplots(figsize=(8, 5))\n",
    "\n",
    "# df = dfs[site]\n",
    "pre_fire['DOWY'].hist(bins=7, ax=ax, label=f'Before Fire', alpha=0.7)\n",
    "post_fire['DOWY'].hist(bins=7, ax=ax, label=f'After Fire', alpha=0.7)\n",
    "ax.set_title(f\"{site} - Fire date: {fire_dates[site]}\")\n",
    "ax.legend()\n",
    "\n",
    "ax.set_xlabel(\"Melt DOWY (Day of Water Year)\")\n",
    "ax.set_ylabel(\"Frequency\")\n",
    "\n",
    "# xfmt = mpl.dates.DateFormatter('%b')\n",
    "# months = mpl.dates.MonthLocator()\n",
    "# weeks = mpl.dates.DayLocator(interval=7)\n",
    "# ax.xaxis.set_major_locator(months)\n",
    "# ax.xaxis.set_major_formatter(xfmt)\n",
    "    \n",
    "fig.suptitle(\"Melt Date distribution\", fontsize=14)\n",
    "plt.tight_layout()\n",
    "\n",
    "# fig.savefig(f\"ANOVA/{site}_distribution.png\")"
   ]
  },
  {
   "cell_type": "code",
   "execution_count": 136,
   "id": "de5af1a0-3c64-40e8-80fc-d5fd922aa253",
   "metadata": {},
   "outputs": [
    {
     "data": {
      "text/plain": [
       "F_onewayResult(statistic=1.144898811662315, pvalue=0.2952631565370968)"
      ]
     },
     "execution_count": 136,
     "metadata": {},
     "output_type": "execute_result"
    }
   ],
   "source": [
    "stats.f_oneway(pre_fire['DOWY'], post_fire['DOWY'])"
   ]
  },
  {
   "cell_type": "code",
   "execution_count": 133,
   "id": "8de724a2-f15c-4134-8944-5ecedf68d5a8",
   "metadata": {},
   "outputs": [
    {
     "data": {
      "text/html": [
       "<div>\n",
       "<style scoped>\n",
       "    .dataframe tbody tr th:only-of-type {\n",
       "        vertical-align: middle;\n",
       "    }\n",
       "\n",
       "    .dataframe tbody tr th {\n",
       "        vertical-align: top;\n",
       "    }\n",
       "\n",
       "    .dataframe thead th {\n",
       "        text-align: right;\n",
       "    }\n",
       "</style>\n",
       "<table border=\"1\" class=\"dataframe\">\n",
       "  <thead>\n",
       "    <tr style=\"text-align: right;\">\n",
       "      <th></th>\n",
       "      <th>sum_sq</th>\n",
       "      <th>df</th>\n",
       "      <th>F</th>\n",
       "      <th>PR(&gt;F)</th>\n",
       "    </tr>\n",
       "  </thead>\n",
       "  <tbody>\n",
       "    <tr>\n",
       "      <th>C(treatments)</th>\n",
       "      <td>2.822955</td>\n",
       "      <td>1.0</td>\n",
       "      <td>0.015328</td>\n",
       "      <td>0.902139</td>\n",
       "    </tr>\n",
       "    <tr>\n",
       "      <th>Residual</th>\n",
       "      <td>6814.253968</td>\n",
       "      <td>37.0</td>\n",
       "      <td>NaN</td>\n",
       "      <td>NaN</td>\n",
       "    </tr>\n",
       "  </tbody>\n",
       "</table>\n",
       "</div>"
      ],
      "text/plain": [
       "                    sum_sq    df         F    PR(>F)\n",
       "C(treatments)     2.822955   1.0  0.015328  0.902139\n",
       "Residual       6814.253968  37.0       NaN       NaN"
      ]
     },
     "execution_count": 133,
     "metadata": {},
     "output_type": "execute_result"
    }
   ],
   "source": [
    "import statsmodels.api as sm\n",
    "from statsmodels.formula.api import ols\n",
    "\n",
    "df['treatments'] = df.apply(lambda row: int(row['date']>=datetime.strptime(fire_dates[site], \"%Y-%m-%d\"))+1, axis=1)\n",
    "df_formatted = df.reset_index()[['index', 'DOWY', 'treatments']].rename({'DOWY': 'value'}, axis=1)\n",
    "\n",
    "# Ordinary Least Squares (OLS) model\n",
    "model = ols('value ~ C(treatments)', data=df_formatted).fit()\n",
    "anova_table = sm.stats.anova_lm(model, typ=2)\n",
    "\n",
    "# display the results table\n",
    "anova_table"
   ]
  },
  {
   "cell_type": "code",
   "execution_count": 105,
   "id": "36fef48f-f064-4541-9906-517b2f7df2d4",
   "metadata": {},
   "outputs": [],
   "source": [
    "anova_table.to_csv(f\"ANOVA/{site}_anova.txt\", sep='\\t')"
   ]
  },
  {
   "cell_type": "markdown",
   "id": "2f1a1465-5567-49b8-813f-23dec90dbf06",
   "metadata": {},
   "source": [
    "# Now let's look at the paired locations"
   ]
  },
  {
   "cell_type": "code",
<<<<<<< Updated upstream
   "execution_count": 213,
=======
   "execution_count": 50,
>>>>>>> Stashed changes
   "id": "432b95f0-2090-4ef3-bff4-8c9f9dc9314b",
   "metadata": {},
   "outputs": [
    {
     "name": "stdout",
     "output_type": "stream",
     "text": [
<<<<<<< Updated upstream
      "Harts Pass, Rainy Pass\n"
=======
      "Three Creeks Meadow, Salt Creek Falls\n"
>>>>>>> Stashed changes
     ]
    }
   ],
   "source": [
    "pairs = {\n",
<<<<<<< Updated upstream
    "    'Pope Ridge': 'Trinity',\n",
    "    'Harts Pass': 'Rainy Pass',\n",
    "    'Grouse Camp': 'Trough',\n",
    "    'Sentinel Butte': 'Gold Axe Camp',\n",
    "    'Three Creeks Meadow': 'Irish Taylor'\n",
    "}\n",
    "sites = [\"Grouse Camp\", \"Pope Ridge\", \"Sentinel Butte\", \"Three Creeks Meadow\", \"Harts Pass\"]\n",
=======
    "    'Pope Ridge': 'Blewett Pass',\n",
    "    'Harts Pass': 'Lyman Lake',\n",
    "    'Grouse Camp': 'Trough',\n",
    "    'Sentinel Butte': 'Gold Axe Camp',\n",
    "    'Three Creeks Meadow': 'Salt Creek Falls'\n",
    "}\n",
    "# pairs = {'Sentinel Butte':'Gold Axe Camp', # apparent postive/null\n",
    "#           'Grouse Camp':'Trough', # apparent negative\n",
    "#           'Harts Pass':'Lyman Lake', # apparent positive/null\n",
    "#           'Three Creeks Meadow': 'Salt Creek Falls', # apparent negative/null\n",
    "#           'Pope Ridge': 'Blewett Pass'}# apparent negative/null\n",
    "\n",
    "# sites = [\"Grouse Camp\", \"Pope Ridge\", \"Sentinel Butte\", \"Three Creeks Meadow\", \"Harts Pass\"]\n",
    "sites = [\"Pope Ridge\", \"Harts Pass\", \"Grouse Camp\", \"Sentinel Butte\", \"Three Creeks Meadow\"]\n",
>>>>>>> Stashed changes
    "\n",
    "# Change the index to necessary site name\n",
    "site = sites[4]\n",
    "\n",
    "fire_dates = {\n",
    "    'Pope Ridge': \"2014-07-16\",\n",
    "    'Three Creeks Meadow': \"2012-09-09\",\n",
    "    'Sentinel Butte': \"2015-08-11\",\n",
    "    'Grouse Camp': \"2012-09-08\",\n",
    "    'Harts Pass': \"2003-08-05\"\n",
    "}\n",
    "paired_site = pairs[site]\n",
    "\n",
    "print(site, paired_site, sep=', ')"
   ]
  },
  {
   "cell_type": "code",
<<<<<<< Updated upstream
   "execution_count": 214,
=======
   "execution_count": 51,
>>>>>>> Stashed changes
   "id": "ecd89c95-56b1-4c75-919b-278e3aca2401",
   "metadata": {},
   "outputs": [
    {
     "data": {
      "text/html": [
       "<div>\n",
       "<style scoped>\n",
       "    .dataframe tbody tr th:only-of-type {\n",
       "        vertical-align: middle;\n",
       "    }\n",
       "\n",
       "    .dataframe tbody tr th {\n",
       "        vertical-align: top;\n",
       "    }\n",
       "\n",
       "    .dataframe thead th {\n",
       "        text-align: right;\n",
       "    }\n",
       "</style>\n",
       "<table border=\"1\" class=\"dataframe\">\n",
       "  <thead>\n",
       "    <tr style=\"text-align: right;\">\n",
       "      <th></th>\n",
       "      <th>water_year</th>\n",
       "      <th>last_snow</th>\n",
<<<<<<< Updated upstream
       "      <th>DOY</th>\n",
       "      <th>DOWY</th>\n",
=======
       "      <th>DOWY</th>\n",
       "      <th>DOY</th>\n",
>>>>>>> Stashed changes
       "      <th>date</th>\n",
       "    </tr>\n",
       "  </thead>\n",
       "  <tbody>\n",
       "    <tr>\n",
       "      <th>0</th>\n",
<<<<<<< Updated upstream
       "      <td>1983</td>\n",
       "      <td>1900-06-30</td>\n",
       "      <td>181</td>\n",
       "      <td>273</td>\n",
       "      <td>1983-06-30</td>\n",
       "    </tr>\n",
       "    <tr>\n",
       "      <th>1</th>\n",
       "      <td>1984</td>\n",
       "      <td>1900-07-06</td>\n",
       "      <td>187</td>\n",
       "      <td>279</td>\n",
       "      <td>1984-07-05</td>\n",
       "    </tr>\n",
       "    <tr>\n",
       "      <th>2</th>\n",
       "      <td>1985</td>\n",
       "      <td>1900-06-11</td>\n",
       "      <td>162</td>\n",
       "      <td>254</td>\n",
       "      <td>1985-06-11</td>\n",
       "    </tr>\n",
       "    <tr>\n",
       "      <th>3</th>\n",
       "      <td>1986</td>\n",
       "      <td>1900-06-14</td>\n",
       "      <td>165</td>\n",
       "      <td>257</td>\n",
       "      <td>1986-06-14</td>\n",
       "    </tr>\n",
       "    <tr>\n",
       "      <th>4</th>\n",
       "      <td>1987</td>\n",
       "      <td>1900-06-06</td>\n",
       "      <td>157</td>\n",
       "      <td>249</td>\n",
       "      <td>1987-06-06</td>\n",
=======
       "      <td>1981</td>\n",
       "      <td>1981-05-11</td>\n",
       "      <td>223</td>\n",
       "      <td>131</td>\n",
       "      <td>1981-05-11</td>\n",
       "    </tr>\n",
       "    <tr>\n",
       "      <th>1</th>\n",
       "      <td>1982</td>\n",
       "      <td>1982-06-03</td>\n",
       "      <td>246</td>\n",
       "      <td>154</td>\n",
       "      <td>1982-06-03</td>\n",
       "    </tr>\n",
       "    <tr>\n",
       "      <th>2</th>\n",
       "      <td>1983</td>\n",
       "      <td>1983-06-21</td>\n",
       "      <td>264</td>\n",
       "      <td>172</td>\n",
       "      <td>1983-06-21</td>\n",
       "    </tr>\n",
       "    <tr>\n",
       "      <th>3</th>\n",
       "      <td>1984</td>\n",
       "      <td>1984-05-30</td>\n",
       "      <td>243</td>\n",
       "      <td>151</td>\n",
       "      <td>1984-05-30</td>\n",
       "    </tr>\n",
       "    <tr>\n",
       "      <th>4</th>\n",
       "      <td>1985</td>\n",
       "      <td>1985-05-13</td>\n",
       "      <td>225</td>\n",
       "      <td>133</td>\n",
       "      <td>1985-05-13</td>\n",
>>>>>>> Stashed changes
       "    </tr>\n",
       "  </tbody>\n",
       "</table>\n",
       "</div>"
      ],
      "text/plain": [
<<<<<<< Updated upstream
       "   water_year   last_snow  DOY  DOWY       date\n",
       "0        1983  1900-06-30  181   273 1983-06-30\n",
       "1        1984  1900-07-06  187   279 1984-07-05\n",
       "2        1985  1900-06-11  162   254 1985-06-11\n",
       "3        1986  1900-06-14  165   257 1986-06-14\n",
       "4        1987  1900-06-06  157   249 1987-06-06"
      ]
     },
     "execution_count": 214,
=======
       "   water_year   last_snow  DOWY  DOY       date\n",
       "0        1981  1981-05-11   223  131 1981-05-11\n",
       "1        1982  1982-06-03   246  154 1982-06-03\n",
       "2        1983  1983-06-21   264  172 1983-06-21\n",
       "3        1984  1984-05-30   243  151 1984-05-30\n",
       "4        1985  1985-05-13   225  133 1985-05-13"
      ]
     },
     "execution_count": 51,
>>>>>>> Stashed changes
     "metadata": {},
     "output_type": "execute_result"
    }
   ],
   "source": [
    "df = pd.read_csv(f\"data/fire_sites/{site}_swe_meltdates.csv\")\n",
    "df['DOY'] = df['last_snow'].apply(lambda d: int(datetime.strptime(d, \"%Y-%m-%d\").strftime(\"%j\")))\n",
    "df['DOWY'] = df['DOY'] + 92    # from oct-1 to dec-31 + DOY\n",
    "df['date'] = df.apply(lambda row: datetime.strptime(f\"{row['water_year']}-{row['DOY']}\", \"%Y-%j\") ,axis=1)\n",
    "df.head()"
   ]
  },
  {
   "cell_type": "code",
<<<<<<< Updated upstream
   "execution_count": 215,
=======
   "execution_count": 52,
>>>>>>> Stashed changes
   "id": "360f39da-fe78-4e98-808e-8ee87883702e",
   "metadata": {},
   "outputs": [
    {
     "data": {
      "text/html": [
       "<div>\n",
       "<style scoped>\n",
       "    .dataframe tbody tr th:only-of-type {\n",
       "        vertical-align: middle;\n",
       "    }\n",
       "\n",
       "    .dataframe tbody tr th {\n",
       "        vertical-align: top;\n",
       "    }\n",
       "\n",
       "    .dataframe thead th {\n",
       "        text-align: right;\n",
       "    }\n",
       "</style>\n",
       "<table border=\"1\" class=\"dataframe\">\n",
       "  <thead>\n",
       "    <tr style=\"text-align: right;\">\n",
       "      <th></th>\n",
       "      <th>water_year</th>\n",
       "      <th>last_snow</th>\n",
<<<<<<< Updated upstream
       "      <th>DOY</th>\n",
       "      <th>DOWY</th>\n",
=======
       "      <th>DOWY</th>\n",
       "      <th>DOY</th>\n",
>>>>>>> Stashed changes
       "      <th>date</th>\n",
       "    </tr>\n",
       "  </thead>\n",
       "  <tbody>\n",
       "    <tr>\n",
       "      <th>0</th>\n",
<<<<<<< Updated upstream
       "      <td>1983</td>\n",
       "      <td>1900-06-27</td>\n",
       "      <td>178</td>\n",
       "      <td>270</td>\n",
       "      <td>1983-06-27</td>\n",
       "    </tr>\n",
       "    <tr>\n",
       "      <th>1</th>\n",
       "      <td>1984</td>\n",
       "      <td>1900-07-01</td>\n",
       "      <td>182</td>\n",
       "      <td>274</td>\n",
       "      <td>1984-06-30</td>\n",
       "    </tr>\n",
       "    <tr>\n",
       "      <th>2</th>\n",
       "      <td>1985</td>\n",
       "      <td>1900-06-18</td>\n",
       "      <td>169</td>\n",
       "      <td>261</td>\n",
       "      <td>1985-06-18</td>\n",
       "    </tr>\n",
       "    <tr>\n",
       "      <th>3</th>\n",
       "      <td>1986</td>\n",
       "      <td>1900-06-14</td>\n",
       "      <td>165</td>\n",
       "      <td>257</td>\n",
       "      <td>1986-06-14</td>\n",
       "    </tr>\n",
       "    <tr>\n",
       "      <th>4</th>\n",
       "      <td>1987</td>\n",
       "      <td>1900-06-13</td>\n",
       "      <td>164</td>\n",
       "      <td>256</td>\n",
       "      <td>1987-06-13</td>\n",
=======
       "      <td>1981</td>\n",
       "      <td>1981-04-28</td>\n",
       "      <td>210</td>\n",
       "      <td>118</td>\n",
       "      <td>1981-04-28</td>\n",
       "    </tr>\n",
       "    <tr>\n",
       "      <th>1</th>\n",
       "      <td>1982</td>\n",
       "      <td>1982-05-22</td>\n",
       "      <td>234</td>\n",
       "      <td>142</td>\n",
       "      <td>1982-05-22</td>\n",
       "    </tr>\n",
       "    <tr>\n",
       "      <th>2</th>\n",
       "      <td>1983</td>\n",
       "      <td>1983-05-30</td>\n",
       "      <td>242</td>\n",
       "      <td>150</td>\n",
       "      <td>1983-05-30</td>\n",
       "    </tr>\n",
       "    <tr>\n",
       "      <th>3</th>\n",
       "      <td>1984</td>\n",
       "      <td>1984-05-31</td>\n",
       "      <td>244</td>\n",
       "      <td>152</td>\n",
       "      <td>1984-05-31</td>\n",
       "    </tr>\n",
       "    <tr>\n",
       "      <th>4</th>\n",
       "      <td>1985</td>\n",
       "      <td>1985-05-22</td>\n",
       "      <td>234</td>\n",
       "      <td>142</td>\n",
       "      <td>1985-05-22</td>\n",
>>>>>>> Stashed changes
       "    </tr>\n",
       "  </tbody>\n",
       "</table>\n",
       "</div>"
      ],
      "text/plain": [
<<<<<<< Updated upstream
       "   water_year   last_snow  DOY  DOWY       date\n",
       "0        1983  1900-06-27  178   270 1983-06-27\n",
       "1        1984  1900-07-01  182   274 1984-06-30\n",
       "2        1985  1900-06-18  169   261 1985-06-18\n",
       "3        1986  1900-06-14  165   257 1986-06-14\n",
       "4        1987  1900-06-13  164   256 1987-06-13"
      ]
     },
     "execution_count": 215,
=======
       "   water_year   last_snow  DOWY  DOY       date\n",
       "0        1981  1981-04-28   210  118 1981-04-28\n",
       "1        1982  1982-05-22   234  142 1982-05-22\n",
       "2        1983  1983-05-30   242  150 1983-05-30\n",
       "3        1984  1984-05-31   244  152 1984-05-31\n",
       "4        1985  1985-05-22   234  142 1985-05-22"
      ]
     },
     "execution_count": 52,
>>>>>>> Stashed changes
     "metadata": {},
     "output_type": "execute_result"
    }
   ],
   "source": [
<<<<<<< Updated upstream
    "paired_df = pd.read_csv(f\"data/fire_sites/paired_locs/{paired_site}_swe_meltdates.csv\")\n",
=======
    "paired_df = pd.read_csv(f\"data/fire_sites/paired_locs_new/{paired_site}_swe_meltdates.csv\")\n",
>>>>>>> Stashed changes
    "paired_df['DOY'] = paired_df['last_snow'].apply(lambda d: int(datetime.strptime(d, \"%Y-%m-%d\").strftime(\"%j\")))\n",
    "paired_df['DOWY'] = paired_df['DOY'] + 92    # from oct-1 to dec-31 + DOY\n",
    "paired_df['date'] = paired_df.apply(lambda row: datetime.strptime(f\"{row['water_year']}-{row['DOY']}\", \"%Y-%j\") ,axis=1)\n",
    "paired_df.head()"
   ]
  },
  {
   "cell_type": "code",
<<<<<<< Updated upstream
   "execution_count": 222,
=======
   "execution_count": 53,
>>>>>>> Stashed changes
   "id": "cf73a5e4-d8cb-4582-9311-638bceb05b16",
   "metadata": {},
   "outputs": [],
   "source": [
    "pre_fire = df[df['date']<fire_dates[site]]  \n",
    "post_fire = df[df['date']>=fire_dates[site]]   # For now take all the data. In future maybe it'd be a good idea to limit the number of years we're looking at\n",
    "\n",
    "pre_fire_pair = paired_df[paired_df['date']<fire_dates[site]]\n",
<<<<<<< Updated upstream
    "post_fire_pair = paired_df[paired_df['date']>=fire_dates[site]].iloc[:10]"
=======
    "post_fire_pair = paired_df[paired_df['date']>=fire_dates[site]]#.iloc[:10]"
>>>>>>> Stashed changes
   ]
  },
  {
   "cell_type": "code",
<<<<<<< Updated upstream
   "execution_count": 223,
=======
   "execution_count": 54,
>>>>>>> Stashed changes
   "id": "d8a753eb-b1f6-4d0f-966f-1f048403e522",
   "metadata": {},
   "outputs": [
    {
     "data": {
<<<<<<< Updated upstream
      "image/png": "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\n",
=======
      "image/png": "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\n",
>>>>>>> Stashed changes
      "text/plain": [
       "<Figure size 576x360 with 1 Axes>"
      ]
     },
     "metadata": {
      "needs_background": "light"
     },
     "output_type": "display_data"
    }
   ],
   "source": [
    "# Distribution of melt dates\n",
    "fig, ax = plt.subplots(figsize=(8, 5))\n",
    "\n",
    "# df = dfs[site]\n",
    "pre_fire_pair['DOWY'].hist(bins=7, ax=ax, label=f'Before Fire', alpha=0.7)\n",
    "post_fire_pair['DOWY'].hist(bins=7, ax=ax, label=f'After Fire', alpha=0.7)\n",
    "ax.set_title(f\"{paired_site} - Fire date: {fire_dates[site]}\")\n",
    "ax.legend()\n",
    "\n",
    "ax.set_xlabel(\"Melt DOWY (Day of Water Year)\")\n",
    "ax.set_ylabel(\"Frequency\")\n",
    "\n",
    "# xfmt = mpl.dates.DateFormatter('%b')\n",
    "# months = mpl.dates.MonthLocator()\n",
    "# weeks = mpl.dates.DayLocator(interval=7)\n",
    "# ax.xaxis.set_major_locator(months)\n",
    "# ax.xaxis.set_major_formatter(xfmt)\n",
    "    \n",
    "fig.suptitle(\"Melt Date distribution\", fontsize=14)\n",
    "plt.tight_layout()\n",
    "\n",
<<<<<<< Updated upstream
    "# fig.savefig(f\"ANOVA/{paired_site}_distribution.png\")"
=======
    "fig.savefig(f\"ANOVA/{paired_site}_distribution.png\")"
>>>>>>> Stashed changes
   ]
  },
  {
   "cell_type": "code",
<<<<<<< Updated upstream
   "execution_count": 224,
=======
   "execution_count": 55,
>>>>>>> Stashed changes
   "id": "862efc48-d9f6-424f-946b-7d31b923137f",
   "metadata": {},
   "outputs": [
    {
     "data": {
      "text/plain": [
<<<<<<< Updated upstream
       "F_onewayResult(statistic=0.15429188976159758, pvalue=0.6973396999391777)"
      ]
     },
     "execution_count": 224,
=======
       "F_onewayResult(statistic=0.9375950630318641, pvalue=0.3388639532213431)"
      ]
     },
     "execution_count": 55,
>>>>>>> Stashed changes
     "metadata": {},
     "output_type": "execute_result"
    }
   ],
   "source": [
    "stats.f_oneway(pre_fire_pair['DOWY'], post_fire_pair['DOWY'])"
   ]
  },
  {
   "cell_type": "code",
<<<<<<< Updated upstream
   "execution_count": 173,
=======
   "execution_count": 56,
>>>>>>> Stashed changes
   "id": "f35b79fd-36e7-4577-87c1-76d61c5231d8",
   "metadata": {},
   "outputs": [
    {
     "data": {
      "text/html": [
       "<div>\n",
       "<style scoped>\n",
       "    .dataframe tbody tr th:only-of-type {\n",
       "        vertical-align: middle;\n",
       "    }\n",
       "\n",
       "    .dataframe tbody tr th {\n",
       "        vertical-align: top;\n",
       "    }\n",
       "\n",
       "    .dataframe thead th {\n",
       "        text-align: right;\n",
       "    }\n",
       "</style>\n",
       "<table border=\"1\" class=\"dataframe\">\n",
       "  <thead>\n",
       "    <tr style=\"text-align: right;\">\n",
       "      <th></th>\n",
       "      <th>sum_sq</th>\n",
       "      <th>df</th>\n",
       "      <th>F</th>\n",
       "      <th>PR(&gt;F)</th>\n",
       "    </tr>\n",
       "  </thead>\n",
       "  <tbody>\n",
       "    <tr>\n",
       "      <th>C(treatments)</th>\n",
<<<<<<< Updated upstream
       "      <td>361.0</td>\n",
       "      <td>1.0</td>\n",
       "      <td>3.254085</td>\n",
       "      <td>0.090105</td>\n",
       "    </tr>\n",
       "    <tr>\n",
       "      <th>Residual</th>\n",
       "      <td>1775.0</td>\n",
       "      <td>16.0</td>\n",
=======
       "      <td>4653.842226</td>\n",
       "      <td>1.0</td>\n",
       "      <td>29.648511</td>\n",
       "      <td>0.000003</td>\n",
       "    </tr>\n",
       "    <tr>\n",
       "      <th>Residual</th>\n",
       "      <td>6121.718750</td>\n",
       "      <td>39.0</td>\n",
>>>>>>> Stashed changes
       "      <td>NaN</td>\n",
       "      <td>NaN</td>\n",
       "    </tr>\n",
       "  </tbody>\n",
       "</table>\n",
       "</div>"
      ],
      "text/plain": [
<<<<<<< Updated upstream
       "               sum_sq    df         F    PR(>F)\n",
       "C(treatments)   361.0   1.0  3.254085  0.090105\n",
       "Residual       1775.0  16.0       NaN       NaN"
      ]
     },
     "execution_count": 173,
=======
       "                    sum_sq    df          F    PR(>F)\n",
       "C(treatments)  4653.842226   1.0  29.648511  0.000003\n",
       "Residual       6121.718750  39.0        NaN       NaN"
      ]
     },
     "execution_count": 56,
>>>>>>> Stashed changes
     "metadata": {},
     "output_type": "execute_result"
    }
   ],
   "source": [
    "import statsmodels.api as sm\n",
    "from statsmodels.formula.api import ols\n",
    "\n",
    "df['treatments'] = df.apply(lambda row: int(row['date']>=datetime.strptime(fire_dates[site], \"%Y-%m-%d\"))+1, axis=1)\n",
    "df_formatted = df.reset_index()[['index', 'DOWY', 'treatments']].rename({'DOWY': 'value'}, axis=1)\n",
    "\n",
    "# Ordinary Least Squares (OLS) model\n",
    "model = ols('value ~ C(treatments)', data=df_formatted).fit()\n",
    "anova_table = sm.stats.anova_lm(model, typ=2)\n",
    "\n",
    "# display the results table\n",
    "anova_table"
   ]
  },
  {
   "cell_type": "code",
   "execution_count": 105,
   "id": "4434c939-752b-4f99-91a5-c01aafae3d2d",
   "metadata": {},
   "outputs": [],
   "source": [
    "anova_table.to_csv(f\"ANOVA/{site}_anova.txt\", sep='\\t')"
   ]
  }
 ],
 "metadata": {
  "kernelspec": {
   "display_name": "Python 3 (ipykernel)",
   "language": "python",
   "name": "python3"
  },
  "language_info": {
   "codemirror_mode": {
    "name": "ipython",
    "version": 3
   },
   "file_extension": ".py",
   "mimetype": "text/x-python",
   "name": "python",
   "nbconvert_exporter": "python",
   "pygments_lexer": "ipython3",
   "version": "3.9.6"
  }
 },
 "nbformat": 4,
 "nbformat_minor": 5
}
