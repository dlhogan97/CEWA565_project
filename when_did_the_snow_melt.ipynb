{
 "cells": [
  {
   "cell_type": "code",
   "execution_count": 206,
   "id": "37275b0b-c1ba-468b-a30a-4452cb9592b5",
   "metadata": {},
   "outputs": [],
   "source": [
    "import pandas as pd\n",
    "import numpy as np\n",
    "import os\n",
    "import matplotlib.pyplot as plt\n",
    "import matplotlib\n",
    "from datetime import datetime, timedelta"
   ]
  },
  {
   "cell_type": "code",
   "execution_count": 227,
   "id": "2693c0d5-3d65-48f8-8d5c-4c02c2c271f2",
   "metadata": {},
   "outputs": [
    {
     "data": {
      "text/html": [
       "<div>\n",
       "<style scoped>\n",
       "    .dataframe tbody tr th:only-of-type {\n",
       "        vertical-align: middle;\n",
       "    }\n",
       "\n",
       "    .dataframe tbody tr th {\n",
       "        vertical-align: top;\n",
       "    }\n",
       "\n",
       "    .dataframe thead th {\n",
       "        text-align: right;\n",
       "    }\n",
       "</style>\n",
       "<table border=\"1\" class=\"dataframe\">\n",
       "  <thead>\n",
       "    <tr style=\"text-align: right;\">\n",
       "      <th></th>\n",
       "      <th>SWE</th>\n",
       "    </tr>\n",
       "    <tr>\n",
       "      <th>datetime</th>\n",
       "      <th></th>\n",
       "    </tr>\n",
       "  </thead>\n",
       "  <tbody>\n",
       "    <tr>\n",
       "      <th>1982-10-01</th>\n",
       "      <td>0.0</td>\n",
       "    </tr>\n",
       "    <tr>\n",
       "      <th>1982-10-02</th>\n",
       "      <td>0.0</td>\n",
       "    </tr>\n",
       "    <tr>\n",
       "      <th>1982-10-03</th>\n",
       "      <td>0.0</td>\n",
       "    </tr>\n",
       "    <tr>\n",
       "      <th>1982-10-04</th>\n",
       "      <td>0.0</td>\n",
       "    </tr>\n",
       "    <tr>\n",
       "      <th>1982-10-05</th>\n",
       "      <td>0.0</td>\n",
       "    </tr>\n",
       "  </tbody>\n",
       "</table>\n",
       "</div>"
      ],
      "text/plain": [
       "            SWE\n",
       "datetime       \n",
       "1982-10-01  0.0\n",
       "1982-10-02  0.0\n",
       "1982-10-03  0.0\n",
       "1982-10-04  0.0\n",
       "1982-10-05  0.0"
      ]
     },
     "execution_count": 227,
     "metadata": {},
     "output_type": "execute_result"
    }
   ],
   "source": [
    "# Load in an example site\n",
    "f = \"./data/fire_sites/Harts Pass_swe.csv\"\n",
    "df = pd.read_csv(f, parse_dates=['datetime'])[['datetime', 'SNOTEL:WTEQ_D']].set_index('datetime').rename({\"SNOTEL:WTEQ_D\":\"SWE\"}, axis=1)\n",
    "df.head()"
   ]
  },
  {
   "cell_type": "code",
   "execution_count": 228,
   "id": "7d6a12f3-6485-4745-9ede-cb98b880984b",
   "metadata": {},
   "outputs": [
    {
     "name": "stdout",
     "output_type": "stream",
     "text": [
      "<class 'pandas.core.frame.DataFrame'>\n",
      "DatetimeIndex: 14282 entries, 1982-10-01 to 2021-11-06\n",
      "Data columns (total 1 columns):\n",
      " #   Column  Non-Null Count  Dtype  \n",
      "---  ------  --------------  -----  \n",
      " 0   SWE     14282 non-null  float64\n",
      "dtypes: float64(1)\n",
      "memory usage: 223.2 KB\n"
     ]
    }
   ],
   "source": [
    "df.info()"
   ]
  },
  {
   "cell_type": "code",
   "execution_count": 229,
   "id": "f73c71ae-df5f-413c-b2bc-b93eee9d6f46",
   "metadata": {},
   "outputs": [
    {
     "data": {
      "text/plain": [
       "<AxesSubplot:xlabel='datetime'>"
      ]
     },
     "execution_count": 229,
     "metadata": {},
     "output_type": "execute_result"
    },
    {
     "data": {
      "image/png": "[encoded data removed]",
      "text/plain": [
       "<Figure size 432x288 with 1 Axes>"
      ]
     },
     "metadata": {
      "needs_background": "light"
     },
     "output_type": "display_data"
    }
   ],
   "source": [
    "df.loc['2017-May':'2017-Jun'].plot()"
   ]
  },
  {
   "cell_type": "code",
   "execution_count": 230,
   "id": "5b365265-ea95-404f-9a4a-4f7c3c13db24",
   "metadata": {},
   "outputs": [
    {
     "data": {
      "text/html": [
       "<div>\n",
       "<style scoped>\n",
       "    .dataframe tbody tr th:only-of-type {\n",
       "        vertical-align: middle;\n",
       "    }\n",
       "\n",
       "    .dataframe tbody tr th {\n",
       "        vertical-align: top;\n",
       "    }\n",
       "\n",
       "    .dataframe thead th {\n",
       "        text-align: right;\n",
       "    }\n",
       "</style>\n",
       "<table border=\"1\" class=\"dataframe\">\n",
       "  <thead>\n",
       "    <tr style=\"text-align: right;\">\n",
       "      <th></th>\n",
       "      <th>SWE</th>\n",
       "    </tr>\n",
       "    <tr>\n",
       "      <th>datetime</th>\n",
       "      <th></th>\n",
       "    </tr>\n",
       "  </thead>\n",
       "  <tbody>\n",
       "    <tr>\n",
       "      <th>1982-10-01</th>\n",
       "      <td>0.0</td>\n",
       "    </tr>\n",
       "    <tr>\n",
       "      <th>1982-10-02</th>\n",
       "      <td>0.0</td>\n",
       "    </tr>\n",
       "    <tr>\n",
       "      <th>1982-10-03</th>\n",
       "      <td>0.0</td>\n",
       "    </tr>\n",
       "    <tr>\n",
       "      <th>1982-10-04</th>\n",
       "      <td>0.0</td>\n",
       "    </tr>\n",
       "    <tr>\n",
       "      <th>1982-10-05</th>\n",
       "      <td>0.0</td>\n",
       "    </tr>\n",
       "    <tr>\n",
       "      <th>...</th>\n",
       "      <td>...</td>\n",
       "    </tr>\n",
       "    <tr>\n",
       "      <th>2021-11-02</th>\n",
       "      <td>4.5</td>\n",
       "    </tr>\n",
       "    <tr>\n",
       "      <th>2021-11-03</th>\n",
       "      <td>4.8</td>\n",
       "    </tr>\n",
       "    <tr>\n",
       "      <th>2021-11-04</th>\n",
       "      <td>5.0</td>\n",
       "    </tr>\n",
       "    <tr>\n",
       "      <th>2021-11-05</th>\n",
       "      <td>5.5</td>\n",
       "    </tr>\n",
       "    <tr>\n",
       "      <th>2021-11-06</th>\n",
       "      <td>5.4</td>\n",
       "    </tr>\n",
       "  </tbody>\n",
       "</table>\n",
       "<p>14282 rows × 1 columns</p>\n",
       "</div>"
      ],
      "text/plain": [
       "            SWE\n",
       "datetime       \n",
       "1982-10-01  0.0\n",
       "1982-10-02  0.0\n",
       "1982-10-03  0.0\n",
       "1982-10-04  0.0\n",
       "1982-10-05  0.0\n",
       "...         ...\n",
       "2021-11-02  4.5\n",
       "2021-11-03  4.8\n",
       "2021-11-04  5.0\n",
       "2021-11-05  5.5\n",
       "2021-11-06  5.4\n",
       "\n",
       "[14282 rows x 1 columns]"
      ]
     },
     "execution_count": 230,
     "metadata": {},
     "output_type": "execute_result"
    }
   ],
   "source": [
    "df"
   ]
  },
  {
   "cell_type": "code",
   "execution_count": 231,
   "id": "6f3483f7-53a1-47c2-8c4a-f35f82016937",
   "metadata": {},
   "outputs": [
    {
     "data": {
      "text/plain": [
       "DatetimeIndex(['1982-12-31', '1983-12-31', '1984-12-31', '1985-12-31',\n",
       "               '1986-12-31', '1987-12-31', '1988-12-31', '1989-12-31',\n",
       "               '1990-12-31', '1991-12-31', '1992-12-31', '1993-12-31',\n",
       "               '1994-12-31', '1995-12-31', '1996-12-31', '1997-12-31',\n",
       "               '1998-12-31', '1999-12-31', '2000-12-31', '2001-12-31',\n",
       "               '2002-12-31', '2003-12-31', '2004-12-31', '2005-12-31',\n",
       "               '2006-12-31', '2007-12-31', '2008-12-31', '2009-12-31',\n",
       "               '2010-12-31', '2011-12-31', '2012-12-31', '2013-12-31',\n",
       "               '2014-12-31', '2015-12-31', '2016-12-31', '2017-12-31',\n",
       "               '2018-12-31', '2019-12-31', '2020-12-31'],\n",
       "              dtype='datetime64[ns]', freq='A-DEC')"
      ]
     },
     "execution_count": 231,
     "metadata": {},
     "output_type": "execute_result"
    }
   ],
   "source": [
    "pd.date_range(df.index[0], df.index[-1], freq='1Y')"
   ]
  },
  {
   "cell_type": "code",
   "execution_count": 232,
   "id": "6c693a99-41e2-42ee-a577-74a2373bdf51",
   "metadata": {},
   "outputs": [
    {
     "data": {
      "text/plain": [
       "PeriodIndex(['1982', '1983', '1984', '1985', '1986', '1987', '1988', '1989',\n",
       "             '1990', '1991', '1992', '1993', '1994', '1995', '1996', '1997',\n",
       "             '1998', '1999', '2000', '2001', '2002', '2003', '2004', '2005',\n",
       "             '2006', '2007', '2008', '2009', '2010', '2011', '2012', '2013',\n",
       "             '2014', '2015', '2016', '2017', '2018', '2019', '2020', '2021'],\n",
       "            dtype='period[A-DEC]')"
      ]
     },
     "execution_count": 232,
     "metadata": {},
     "output_type": "execute_result"
    }
   ],
   "source": [
    "pd.period_range(df.index[0], df.index[-1], freq=\"Y\")"
   ]
  },
  {
   "cell_type": "code",
   "execution_count": 233,
   "id": "0010084b-fd2e-4b94-9cf4-ace4b88aa6b4",
   "metadata": {},
   "outputs": [],
   "source": [
    "def when_did_the_snow_melt(data, swe_name='SWE'):\n",
    "    \"\"\"\n",
    "    Inputs:\n",
    "    ======\n",
    "        data: SWE Data for a single water year as a pandas series\n",
    "    \"\"\"\n",
    "    return data.loc[data[swe_name]>0].index[-1].to_pydatetime()\n",
    "\n",
    "def get_last_day_of_snow(dataset):\n",
    "    \"\"\"Creates a list of dataframes split into water years\n",
    "    \"\"\"\n",
    "    mint = df.index[0].to_pydatetime()\n",
    "    maxt = df.index[-1].to_pydatetime()\n",
    "\n",
    "    # NOTE: Ignores first year\n",
    "    water_years = {y.year:df.loc[pd.date_range(f\"{y}-01-01\", f\"{y}-08-15\")] for y in pd.period_range(mint, maxt, freq=\"Y\")[1:]}\n",
    "    \n",
    "    solution = {\n",
    "        'water_year': [],\n",
    "        'last_snow': []\n",
    "    }\n",
    "    for water_year in water_years:\n",
    "        solution['water_year'].append(water_year)\n",
    "        \n",
    "        # make it year agnostic\n",
    "        solution['last_snow'].append(datetime.strptime(when_did_the_snow_melt(water_years[water_year]).strftime(\"%m-%d\"), \"%m-%d\"))\n",
    "        \n",
    "    return pd.DataFrame(solution)"
   ]
  },
  {
   "cell_type": "code",
   "execution_count": 234,
   "id": "b852f96f-9539-4308-b8c3-603930326b48",
   "metadata": {},
   "outputs": [
    {
     "data": {
      "text/html": [
       "<div>\n",
       "<style scoped>\n",
       "    .dataframe tbody tr th:only-of-type {\n",
       "        vertical-align: middle;\n",
       "    }\n",
       "\n",
       "    .dataframe tbody tr th {\n",
       "        vertical-align: top;\n",
       "    }\n",
       "\n",
       "    .dataframe thead th {\n",
       "        text-align: right;\n",
       "    }\n",
       "</style>\n",
       "<table border=\"1\" class=\"dataframe\">\n",
       "  <thead>\n",
       "    <tr style=\"text-align: right;\">\n",
       "      <th></th>\n",
       "      <th>water_year</th>\n",
       "      <th>last_snow</th>\n",
       "    </tr>\n",
       "  </thead>\n",
       "  <tbody>\n",
       "    <tr>\n",
       "      <th>0</th>\n",
       "      <td>1983</td>\n",
       "      <td>1900-06-30</td>\n",
       "    </tr>\n",
       "    <tr>\n",
       "      <th>1</th>\n",
       "      <td>1984</td>\n",
       "      <td>1900-07-06</td>\n",
       "    </tr>\n",
       "    <tr>\n",
       "      <th>2</th>\n",
       "      <td>1985</td>\n",
       "      <td>1900-06-11</td>\n",
       "    </tr>\n",
       "    <tr>\n",
       "      <th>3</th>\n",
       "      <td>1986</td>\n",
       "      <td>1900-06-14</td>\n",
       "    </tr>\n",
       "    <tr>\n",
       "      <th>4</th>\n",
       "      <td>1987</td>\n",
       "      <td>1900-06-06</td>\n",
       "    </tr>\n",
       "  </tbody>\n",
       "</table>\n",
       "</div>"
      ],
      "text/plain": [
       "   water_year  last_snow\n",
       "0        1983 1900-06-30\n",
       "1        1984 1900-07-06\n",
       "2        1985 1900-06-11\n",
       "3        1986 1900-06-14\n",
       "4        1987 1900-06-06"
      ]
     },
     "execution_count": 234,
     "metadata": {},
     "output_type": "execute_result"
    }
   ],
   "source": [
    "melt_dates = get_last_day_of_snow(df)\n",
    "melt_dates.head()"
   ]
  },
  {
   "cell_type": "code",
   "execution_count": 235,
   "id": "72d689c8-b2dc-4bde-b869-22887d0ff351",
   "metadata": {},
   "outputs": [
    {
     "name": "stdout",
     "output_type": "stream",
     "text": [
      "<class 'pandas.core.frame.DataFrame'>\n",
      "RangeIndex: 39 entries, 0 to 38\n",
      "Data columns (total 2 columns):\n",
      " #   Column      Non-Null Count  Dtype         \n",
      "---  ------      --------------  -----         \n",
      " 0   water_year  39 non-null     int64         \n",
      " 1   last_snow   39 non-null     datetime64[ns]\n",
      "dtypes: datetime64[ns](1), int64(1)\n",
      "memory usage: 752.0 bytes\n"
     ]
    }
   ],
   "source": [
    "melt_dates.info()"
   ]
  },
  {
   "cell_type": "code",
   "execution_count": null,
   "id": "a76d2eb5-ba22-4ad1-9c67-6b6db0d04e19",
   "metadata": {},
   "outputs": [],
   "source": []
  },
  {
   "cell_type": "code",
   "execution_count": 238,
   "id": "865f767c-2d26-4864-ad5c-b22dec6a6ae2",
   "metadata": {},
   "outputs": [
    {
     "data": {
      "image/png": "[encoded data removed]",
      "text/plain": [
       "<Figure size 432x288 with 1 Axes>"
      ]
     },
     "metadata": {
      "needs_background": "light"
     },
     "output_type": "display_data"
    }
   ],
   "source": [
    "xs = [datetime(2021, melt_date.month, melt_date.day) for melt_date in melt_dates['last_snow']]\n",
    "\n",
    "fig, ax = plt.subplots()\n",
    "\n",
    "for x in xs:\n",
    "    ax.axvline(x, color='red', alpha=0.2)\n",
    "# ax.set_xlim(\"2021-01- 01\", \"2021-12-31\")\n",
    "ax.set_xlim(datetime(2021, 1, 1), datetime(2021, 12, 31))\n",
    "fig.autofmt_xdate()"
   ]
  },
  {
   "cell_type": "code",
   "execution_count": 205,
   "id": "0372fda4-fd33-4634-8c6e-0a490a12c233",
   "metadata": {},
   "outputs": [
    {
     "data": {
      "text/plain": [
       "<AxesSubplot:xlabel='last_snow'>"
      ]
     },
     "execution_count": 205,
     "metadata": {},
     "output_type": "execute_result"
    },
    {
     "data": {
      "image/png": "[encoded data removed]",
      "text/plain": [
       "<Figure size 432x288 with 1 Axes>"
      ]
     },
     "metadata": {
      "needs_background": "light"
     },
     "output_type": "display_data"
    }
   ],
   "source": [
    "melt_dates['last_snow'].groupby(melt_dates['last_snow']).count().plot(kind='bar')"
   ]
  },
  {
   "cell_type": "markdown",
   "id": "0812fca0-1b4d-4b58-ab7d-2c20ff0a8e0f",
   "metadata": {},
   "source": [
    "# All in one cell"
   ]
  },
  {
   "cell_type": "code",
   "execution_count": 281,
   "id": "e842650a-8f8e-425c-8412-bc1446ff0389",
   "metadata": {},
   "outputs": [
    {
     "data": {
      "image/png": "[encoded data removed]",
      "text/plain": [
       "<Figure size 720x360 with 4 Axes>"
      ]
     },
     "metadata": {
      "needs_background": "light"
     },
     "output_type": "display_data"
    }
   ],
   "source": [
    "# Load in an example site\n",
    "fs = [os.path.join(\"./data/fire_sites\", f) for f in os.listdir(\"./data/fire_sites\") if f.endswith('swe.csv')]\n",
    "\n",
    "fig, axes = plt.subplots(nrows=2, ncols=2, figsize=(10, 5), tight_layout=True)\n",
    "axes = axes.flatten()\n",
    "\n",
    "for ax, f in zip(axes, fs):\n",
    "# f = \"./data/fire_sites/Harts Pass_swe.csv\"\n",
    "    df = pd.read_csv(f, parse_dates=['datetime'])[['datetime', 'SNOTEL:WTEQ_D']].set_index('datetime').rename({\"SNOTEL:WTEQ_D\":\"SWE\"}, axis=1)\n",
    "    df.head()\n",
    "\n",
    "    melt_dates = get_last_day_of_snow(df)\n",
    "    melt_dates.head()\n",
    "    \n",
    "    # # save the datasets as\n",
    "    # savename = f\"./data/fire_sites/{f.split('/')[-1][:-4]}_meltdates.csv\"\n",
    "    # melt_dates.to_csv(savename, index=False)\n",
    "\n",
    "    xs = [datetime(2021, melt_date.month, melt_date.day) for melt_date in melt_dates['last_snow']]\n",
    "\n",
    "    for x in xs:\n",
    "        ax.axvline(x, color='red', alpha=0.3)\n",
    "    # ax.set_xlim(\"2021-01- 01\", \"2021-12-31\")\n",
    "    ax.set_xlim(datetime(2021, 1, 1), datetime(2021, 12, 31))\n",
    "    fig.autofmt_xdate()\n",
    "\n",
    "    ax.set_title(f\"{f.split('/')[-1][:-4]} Melt Date Distribution\")\n",
    "    ax.set_yticklabels([])\n",
    "    ax.set_yticks([])\n",
    "\n",
    "    ax.xaxis.set_major_formatter(matplotlib.dates.DateFormatter('%b'))"
   ]
  },
  {
   "cell_type": "markdown",
   "id": "ce77b839-d59a-49c7-8235-66d3fbb17633",
   "metadata": {},
   "source": [
    "Looks like most of the assigned melt dates are very realistic, except for 2 data points at Grouse Camp"
   ]
  }
 ],
 "metadata": {
  "kernelspec": {
   "display_name": "Python 3 (ipykernel)",
   "language": "python",
   "name": "python3"
  },
  "language_info": {
   "codemirror_mode": {
    "name": "ipython",
    "version": 3
   },
   "file_extension": ".py",
   "mimetype": "text/x-python",
   "name": "python",
   "nbconvert_exporter": "python",
   "pygments_lexer": "ipython3",
   "version": "3.9.7"
  }
 },
 "nbformat": 4,
 "nbformat_minor": 5
}
