{
 "cells": [
  {
   "cell_type": "code",
   "execution_count": 1,
   "metadata": {},
   "outputs": [],
   "source": [
    "import pandas as pd\n",
    "import numpy as np\n",
    "import os\n",
    "from datetime import datetime\n",
    "from datetime import date"
   ]
  },
  {
   "cell_type": "code",
   "execution_count": 8,
   "metadata": {},
   "outputs": [],
   "source": [
    "def splitFireSNOTEL(site_name, variable_type, disruption_dates, filepath, end_date=None):\n",
    "    \"\"\"\n",
    "    splitFireSNOTEL will split up the dataframe before and after a given fire event occured at a site.\n",
    "    It returns two dataframes, the first of which is all data prior to the fire event, and the second\n",
    "    being the data after the fire event (inclusive).\n",
    "\n",
    "    If end_date option is included, this will report after-fire data up to the given date.\n",
    "\n",
    "    Example:\n",
    "    filepath = \n",
    "    disruption_dates = pd.read_excel(os.path.join(filepath,'snotel_fire_data.xlsx'))\n",
    "    name = 'Grouse Camp'\n",
    "    variable = 'swe'\n",
    "    before, after = splitLogSNOTEL(name, variable, disruption_dates, filepath)\n",
    "\n",
    "    Args:\n",
    "        site_name (string): SNOTEL site name\n",
    "        variable_type (string): 'swe' or 'depth'\n",
    "        disruption_dates (dataframe): dataframe of snotel fire disturbances, located here: \n",
    "        filepath (string): path location to file\n",
    "        end_date (string, optional): date to end after-disturbance dataset. Defaults to None.\n",
    "\n",
    "    Returns:\n",
    "        df_b: dataframe before disturbance\n",
    "        df_a: dataframe after disturbance\n",
    "    \"\"\"\n",
    "    # read in disruption date from provided file\n",
    "    disruption_date = disruption_dates[disruption_dates['site_name']==site_name]['fire_start_date'].to_list()[0]\n",
    "    # write out the file name using site name and snow variable of interest (swe or depth)\n",
    "    filename = os.path.join(filepath,site_name+'_'+variable_type+'.csv')\n",
    "    site_df = pd.read_csv(filename)\n",
    "    # make sure datetime is datetime type\n",
    "    site_df['datetime'] = pd.to_datetime(site_df['datetime'])\n",
    "    # set index to datetime\n",
    "    site_df = site_df.set_index('datetime')\n",
    "    # filter before and after date of disturbance\n",
    "    df_b = site_df[site_df.index < disruption_date]\n",
    "    # if end_date was included, the after-fire dataframe will report data up to that date\n",
    "    if end_date is not None:\n",
    "       df_a = site_df[(site_df.index >= disruption_date) & (site_df.index <= end_date)] \n",
    "    else:\n",
    "        df_a = site_df[site_df.index >= disruption_date]\n",
    "    return df_b, df_a"
   ]
  },
  {
   "cell_type": "code",
   "execution_count": 10,
   "metadata": {},
   "outputs": [],
   "source": [
    "\n",
    "def splitLogSNOTEL(site_name, variable_type, filepath, end_date=None):\n",
    "    \"\"\"splitLogSNOTEL will split up the dataframe before and after a given logging event occured at a site.\n",
    "    It returns two dataframes, the first of which is all data prior to the logging event, and the second\n",
    "    being the data after the logging event (inclusive).\n",
    "\n",
    "    The disruption dates are stated as the first day of each water year on the year the disturbance occurred.\n",
    "\n",
    "    If end_date option is included, this will report after-logging data up to the given date.\n",
    "    \n",
    "    Example:\n",
    "    name = 'Mowich'\n",
    "    variable = 'swe'\n",
    "    before, after = splitLogSNOTEL(name, variable, filepath)\n",
    "\n",
    "    Args:\n",
    "        site_name (string): SNOTEL site name\n",
    "        variable_type (string): 'swe' or 'depth'\n",
    "        filepath (string): path location to file\n",
    "        end_date (string, optional): date to end after-disturbance dataset. Defaults to None.\n",
    "\n",
    "    Returns:\n",
    "        df_b: dataframe before disturbance\n",
    "        df_a: dataframe after disturbance\n",
    "    \"\"\"\n",
    "    # estimated disturbance dates as first day of WY\n",
    "    disruption = {'Mowich':datetime(2002,10,1), 'Seine Creek':datetime(2006,10,1)}\n",
    "    # read in disruption date from dictionary\n",
    "    disruption_date = disruption[site_name]\n",
    "    print(disruption_date)\n",
    "    # write out the file name using site name and snow variable of interest (swe or depth)\n",
    "    filename = os.path.join(filepath,site_name+'_'+variable_type+'.csv')\n",
    "    site_df = pd.read_csv(filename)\n",
    "    # make sure datetime is datetime type\n",
    "    site_df['datetime'] = pd.to_datetime(site_df['datetime'])\n",
    "    # set index to datetime\n",
    "    site_df = site_df.set_index('datetime')\n",
    "    # filter before and after date of disturbance\n",
    "    df_b = site_df[site_df.index < disruption_date]\n",
    "    # if end_date was included, the after-fire dataframe will report data up to that date\n",
    "    if end_date is not None:\n",
    "       df_a = site_df[(site_df.index >= disruption_date) & (site_df.index <= end_date)] \n",
    "    else:\n",
    "        df_a = site_df[site_df.index >= disruption_date]\n",
    "    return df_b, df_a"
   ]
  },
  {
   "cell_type": "code",
   "execution_count": 11,
   "metadata": {},
   "outputs": [
    {
     "name": "stdout",
     "output_type": "stream",
     "text": [
      "Help on function splitLogSNOTEL in module __main__:\n",
      "\n",
      "splitLogSNOTEL(site_name, variable_type, filepath, end_date=None)\n",
      "    splitLogSNOTEL will split up the dataframe before and after a given logging event occured at a site.\n",
      "    It returns two dataframes, the first of which is all data prior to the logging event, and the second\n",
      "    being the data after the logging event (inclusive).\n",
      "    \n",
      "    The disruption dates are stated as the first day of each water year on the year the disturbance occurred.\n",
      "    \n",
      "    If end_date option is included, this will report after-logging data up to the given date.\n",
      "    \n",
      "    Example:\n",
      "    name = 'Mowich'\n",
      "    variable = 'swe'\n",
      "    before, after = splitLogSNOTEL(name, variable, filepath)\n",
      "    \n",
      "    Args:\n",
      "        site_name (string): SNOTEL site name\n",
      "        variable_type (string): 'swe' or 'depth'\n",
      "        filepath (string): path location to file\n",
      "        end_date (string, optional): date to end after-disturbance dataset. Defaults to None.\n",
      "    \n",
      "    Returns:\n",
      "        df_b: dataframe before disturbance\n",
      "        df_a: dataframe after disturbance\n",
      "\n"
     ]
    }
   ],
   "source": [
    "help(splitLogSNOTEL)"
   ]
  },
  {
   "cell_type": "code",
   "execution_count": null,
   "metadata": {},
   "outputs": [],
   "source": []
  }
 ],
 "metadata": {
  "interpreter": {
   "hash": "c947806de83aa73c877b01af5b149c30623083e7281fdcfadf2c507b47b43763"
  },
  "kernelspec": {
   "display_name": "Python 3.8.11 64-bit (conda)",
   "language": "python",
   "name": "python3"
  },
  "language_info": {
   "codemirror_mode": {
    "name": "ipython",
    "version": 3
   },
   "file_extension": ".py",
   "mimetype": "text/x-python",
   "name": "python",
   "nbconvert_exporter": "python",
   "pygments_lexer": "ipython3",
   "version": "3.8.11"
  },
  "orig_nbformat": 4
 },
 "nbformat": 4,
 "nbformat_minor": 2
}
